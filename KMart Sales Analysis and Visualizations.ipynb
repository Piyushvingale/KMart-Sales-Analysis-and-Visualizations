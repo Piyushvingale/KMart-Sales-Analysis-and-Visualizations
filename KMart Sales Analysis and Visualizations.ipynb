{
 "cells": [
  {
   "cell_type": "markdown",
   "metadata": {},
   "source": [
    "# Imports"
   ]
  },
  {
   "cell_type": "code",
   "execution_count": 1,
   "metadata": {},
   "outputs": [],
   "source": [
    "import os\n",
    "import glob\n",
    "import pandas as pd\n",
    "import numpy as np\n",
    "import matplotlib.pyplot as plt\n",
    "import operator"
   ]
  },
  {
   "cell_type": "markdown",
   "metadata": {},
   "source": [
    "# Reading Data Files"
   ]
  },
  {
   "cell_type": "code",
   "execution_count": 2,
   "metadata": {},
   "outputs": [],
   "source": [
    "extension = 'csv'\n",
    "all_filenames = [i for i in glob.glob('*.{}'.format(extension))]"
   ]
  },
  {
   "cell_type": "code",
   "execution_count": 3,
   "metadata": {},
   "outputs": [],
   "source": [
    "combined_csv = pd.concat([pd.read_csv(f) for f in all_filenames ])\n",
    "combined_csv.to_csv( \"combined_csv.csv\", index=False, encoding='utf-8-sig')"
   ]
  },
  {
   "cell_type": "code",
   "execution_count": 4,
   "metadata": {},
   "outputs": [],
   "source": [
    "df = pd.DataFrame(pd.read_csv(\"C:/Users/HP/Desktop/Piyush MIT/ssss/combined_csv.csv\"))\n",
    "dfjan = pd.DataFrame(pd.read_csv(\"C:/Users/HP/Desktop/Piyush MIT/ssss/data/Sales_January_2019.csv\"))\n",
    "dffeb = pd.DataFrame(pd.read_csv(\"C:/Users/HP/Desktop/Piyush MIT/ssss/data/Sales_February_2019.csv\"))\n",
    "dfmar = pd.DataFrame(pd.read_csv(\"C:/Users/HP/Desktop/Piyush MIT/ssss/data/Sales_March_2019.csv\"))\n",
    "dfapr = pd.DataFrame(pd.read_csv(\"C:/Users/HP/Desktop/Piyush MIT/ssss/data/Sales_April_2019.csv\"))\n",
    "dfmay = pd.DataFrame(pd.read_csv(\"C:/Users/HP/Desktop/Piyush MIT/ssss/data/Sales_May_2019.csv\"))\n",
    "dfjun = pd.DataFrame(pd.read_csv(\"C:/Users/HP/Desktop/Piyush MIT/ssss/data/Sales_June_2019.csv\"))\n",
    "dfjul = pd.DataFrame(pd.read_csv(\"C:/Users/HP/Desktop/Piyush MIT/ssss/data/Sales_July_2019.csv\"))\n",
    "dfaug = pd.DataFrame(pd.read_csv(\"C:/Users/HP/Desktop/Piyush MIT/ssss/data/Sales_August_2019.csv\"))\n",
    "dfsep = pd.DataFrame(pd.read_csv(\"C:/Users/HP/Desktop/Piyush MIT/ssss/data/Sales_September_2019.csv\"))\n",
    "dfoct = pd.DataFrame(pd.read_csv(\"C:/Users/HP/Desktop/Piyush MIT/ssss/data/Sales_October_2019.csv\"))\n",
    "dfnov = pd.DataFrame(pd.read_csv(\"C:/Users/HP/Desktop/Piyush MIT/ssss/data/Sales_November_2019.csv\"))\n",
    "dfdec = pd.DataFrame(pd.read_csv(\"C:/Users/HP/Desktop/Piyush MIT/ssss/data/Sales_December_2019.csv\"))"
   ]
  },
  {
   "cell_type": "code",
   "execution_count": 5,
   "metadata": {},
   "outputs": [
    {
     "data": {
      "text/html": [
       "<div>\n",
       "<style scoped>\n",
       "    .dataframe tbody tr th:only-of-type {\n",
       "        vertical-align: middle;\n",
       "    }\n",
       "\n",
       "    .dataframe tbody tr th {\n",
       "        vertical-align: top;\n",
       "    }\n",
       "\n",
       "    .dataframe thead th {\n",
       "        text-align: right;\n",
       "    }\n",
       "</style>\n",
       "<table border=\"1\" class=\"dataframe\">\n",
       "  <thead>\n",
       "    <tr style=\"text-align: right;\">\n",
       "      <th></th>\n",
       "      <th>Order ID</th>\n",
       "      <th>Product</th>\n",
       "      <th>Quantity Ordered</th>\n",
       "      <th>Price Each</th>\n",
       "      <th>Order Date</th>\n",
       "      <th>Purchase Address</th>\n",
       "    </tr>\n",
       "  </thead>\n",
       "  <tbody>\n",
       "    <tr>\n",
       "      <th>0</th>\n",
       "      <td>176558</td>\n",
       "      <td>USB-C Charging Cable</td>\n",
       "      <td>2</td>\n",
       "      <td>11.95</td>\n",
       "      <td>04/19/19 08:46</td>\n",
       "      <td>917 1st St, Dallas, TX 75001</td>\n",
       "    </tr>\n",
       "    <tr>\n",
       "      <th>1</th>\n",
       "      <td>NaN</td>\n",
       "      <td>NaN</td>\n",
       "      <td>NaN</td>\n",
       "      <td>NaN</td>\n",
       "      <td>NaN</td>\n",
       "      <td>NaN</td>\n",
       "    </tr>\n",
       "    <tr>\n",
       "      <th>2</th>\n",
       "      <td>176559</td>\n",
       "      <td>Bose SoundSport Headphones</td>\n",
       "      <td>1</td>\n",
       "      <td>99.99</td>\n",
       "      <td>04/07/19 22:30</td>\n",
       "      <td>682 Chestnut St, Boston, MA 02215</td>\n",
       "    </tr>\n",
       "    <tr>\n",
       "      <th>3</th>\n",
       "      <td>176560</td>\n",
       "      <td>Google Phone</td>\n",
       "      <td>1</td>\n",
       "      <td>600</td>\n",
       "      <td>04/12/19 14:38</td>\n",
       "      <td>669 Spruce St, Los Angeles, CA 90001</td>\n",
       "    </tr>\n",
       "    <tr>\n",
       "      <th>4</th>\n",
       "      <td>176560</td>\n",
       "      <td>Wired Headphones</td>\n",
       "      <td>1</td>\n",
       "      <td>11.99</td>\n",
       "      <td>04/12/19 14:38</td>\n",
       "      <td>669 Spruce St, Los Angeles, CA 90001</td>\n",
       "    </tr>\n",
       "  </tbody>\n",
       "</table>\n",
       "</div>"
      ],
      "text/plain": [
       "  Order ID                     Product Quantity Ordered Price Each  \\\n",
       "0   176558        USB-C Charging Cable                2      11.95   \n",
       "1      NaN                         NaN              NaN        NaN   \n",
       "2   176559  Bose SoundSport Headphones                1      99.99   \n",
       "3   176560                Google Phone                1        600   \n",
       "4   176560            Wired Headphones                1      11.99   \n",
       "\n",
       "       Order Date                      Purchase Address  \n",
       "0  04/19/19 08:46          917 1st St, Dallas, TX 75001  \n",
       "1             NaN                                   NaN  \n",
       "2  04/07/19 22:30     682 Chestnut St, Boston, MA 02215  \n",
       "3  04/12/19 14:38  669 Spruce St, Los Angeles, CA 90001  \n",
       "4  04/12/19 14:38  669 Spruce St, Los Angeles, CA 90001  "
      ]
     },
     "execution_count": 5,
     "metadata": {},
     "output_type": "execute_result"
    }
   ],
   "source": [
    "df.head()"
   ]
  },
  {
   "cell_type": "code",
   "execution_count": 6,
   "metadata": {},
   "outputs": [
    {
     "data": {
      "text/html": [
       "<div>\n",
       "<style scoped>\n",
       "    .dataframe tbody tr th:only-of-type {\n",
       "        vertical-align: middle;\n",
       "    }\n",
       "\n",
       "    .dataframe tbody tr th {\n",
       "        vertical-align: top;\n",
       "    }\n",
       "\n",
       "    .dataframe thead th {\n",
       "        text-align: right;\n",
       "    }\n",
       "</style>\n",
       "<table border=\"1\" class=\"dataframe\">\n",
       "  <thead>\n",
       "    <tr style=\"text-align: right;\">\n",
       "      <th></th>\n",
       "      <th>Order ID</th>\n",
       "      <th>Product</th>\n",
       "      <th>Quantity Ordered</th>\n",
       "      <th>Price Each</th>\n",
       "      <th>Order Date</th>\n",
       "      <th>Purchase Address</th>\n",
       "    </tr>\n",
       "  </thead>\n",
       "  <tbody>\n",
       "    <tr>\n",
       "      <th>0</th>\n",
       "      <td>141234</td>\n",
       "      <td>iPhone</td>\n",
       "      <td>1</td>\n",
       "      <td>700</td>\n",
       "      <td>01/22/19 21:25</td>\n",
       "      <td>944 Walnut St, Boston, MA 02215</td>\n",
       "    </tr>\n",
       "    <tr>\n",
       "      <th>1</th>\n",
       "      <td>141235</td>\n",
       "      <td>Lightning Charging Cable</td>\n",
       "      <td>1</td>\n",
       "      <td>14.95</td>\n",
       "      <td>01/28/19 14:15</td>\n",
       "      <td>185 Maple St, Portland, OR 97035</td>\n",
       "    </tr>\n",
       "    <tr>\n",
       "      <th>2</th>\n",
       "      <td>141236</td>\n",
       "      <td>Wired Headphones</td>\n",
       "      <td>2</td>\n",
       "      <td>11.99</td>\n",
       "      <td>01/17/19 13:33</td>\n",
       "      <td>538 Adams St, San Francisco, CA 94016</td>\n",
       "    </tr>\n",
       "    <tr>\n",
       "      <th>3</th>\n",
       "      <td>141237</td>\n",
       "      <td>27in FHD Monitor</td>\n",
       "      <td>1</td>\n",
       "      <td>149.99</td>\n",
       "      <td>01/05/19 20:33</td>\n",
       "      <td>738 10th St, Los Angeles, CA 90001</td>\n",
       "    </tr>\n",
       "    <tr>\n",
       "      <th>4</th>\n",
       "      <td>141238</td>\n",
       "      <td>Wired Headphones</td>\n",
       "      <td>1</td>\n",
       "      <td>11.99</td>\n",
       "      <td>01/25/19 11:59</td>\n",
       "      <td>387 10th St, Austin, TX 73301</td>\n",
       "    </tr>\n",
       "  </tbody>\n",
       "</table>\n",
       "</div>"
      ],
      "text/plain": [
       "  Order ID                   Product Quantity Ordered Price Each  \\\n",
       "0   141234                    iPhone                1        700   \n",
       "1   141235  Lightning Charging Cable                1      14.95   \n",
       "2   141236          Wired Headphones                2      11.99   \n",
       "3   141237          27in FHD Monitor                1     149.99   \n",
       "4   141238          Wired Headphones                1      11.99   \n",
       "\n",
       "       Order Date                       Purchase Address  \n",
       "0  01/22/19 21:25        944 Walnut St, Boston, MA 02215  \n",
       "1  01/28/19 14:15       185 Maple St, Portland, OR 97035  \n",
       "2  01/17/19 13:33  538 Adams St, San Francisco, CA 94016  \n",
       "3  01/05/19 20:33     738 10th St, Los Angeles, CA 90001  \n",
       "4  01/25/19 11:59          387 10th St, Austin, TX 73301  "
      ]
     },
     "execution_count": 6,
     "metadata": {},
     "output_type": "execute_result"
    }
   ],
   "source": [
    "dfjan.head()"
   ]
  },
  {
   "cell_type": "markdown",
   "metadata": {},
   "source": [
    "# Preprocessing Of Data"
   ]
  },
  {
   "cell_type": "code",
   "execution_count": 7,
   "metadata": {},
   "outputs": [],
   "source": [
    "df = df.dropna()\n",
    "df = df[~df.Product.str.contains('Product')]\n",
    "dfjan = dfjan.dropna()\n",
    "dfjan = dfjan[~dfjan.Product.str.contains('Product')]\n",
    "dffeb = dffeb.dropna()\n",
    "dffeb = dffeb[~dffeb.Product.str.contains('Product')]\n",
    "dfmar = dfmar.dropna()\n",
    "dfmar = dfmar[~dfmar.Product.str.contains('Product')]\n",
    "dfapr = dfapr.dropna()\n",
    "dfapr = dfapr[~dfapr.Product.str.contains('Product')]\n",
    "dfmay = dfmay.dropna()\n",
    "dfmay = dfmay[~dfmay.Product.str.contains('Product')]\n",
    "dfjun = dfjun.dropna()\n",
    "dfjun = dfjun[~dfjun.Product.str.contains('Product')]\n",
    "dfjul = dfjul.dropna()\n",
    "dfjul = dfjul[~dfjul.Product.str.contains('Product')]\n",
    "dfaug = dfaug.dropna()\n",
    "dfaug = dfaug[~dfaug.Product.str.contains('Product')]\n",
    "dfsep = dfsep.dropna()\n",
    "dfsep = dfsep[~dfsep.Product.str.contains('Product')]\n",
    "dfoct = dfoct.dropna()\n",
    "dfoct = dfoct[~dfoct.Product.str.contains('Product')]\n",
    "dfnov = dfnov.dropna()\n",
    "dfnov = dfnov[~dfnov.Product.str.contains('Product')]\n",
    "dfdec = dfdec.dropna()\n",
    "dfdec = dfdec[~dfdec.Product.str.contains('Product')]"
   ]
  },
  {
   "cell_type": "markdown",
   "metadata": {},
   "source": [
    "# 1) What was the best month for sales ?, How much was earned that month?"
   ]
  },
  {
   "cell_type": "code",
   "execution_count": 8,
   "metadata": {},
   "outputs": [],
   "source": [
    "monthly_sales = []\n",
    "for i in range(12):\n",
    "    monthly_sales.append(0)"
   ]
  },
  {
   "cell_type": "code",
   "execution_count": 9,
   "metadata": {},
   "outputs": [],
   "source": [
    "for (i,j) in zip(dfjan['Quantity Ordered'],dfjan['Price Each']):\n",
    "    monthly_sales[0] += float(i) * float(j)\n",
    "for (i,j) in zip(dffeb['Quantity Ordered'],dffeb['Price Each']):\n",
    "    monthly_sales[1] += float(i) * float(j)\n",
    "for (i,j) in zip(dfmar['Quantity Ordered'],dfmar['Price Each']):\n",
    "    monthly_sales[2] += float(i) * float(j)\n",
    "for (i,j) in zip(dfapr['Quantity Ordered'],dfapr['Price Each']):\n",
    "    monthly_sales[3] += float(i) * float(j)\n",
    "for (i,j) in zip(dfmay['Quantity Ordered'],dfmay['Price Each']):\n",
    "    monthly_sales[4] += float(i) * float(j)\n",
    "for (i,j) in zip(dfjun['Quantity Ordered'],dfjun['Price Each']):\n",
    "    monthly_sales[5] += float(i) * float(j)\n",
    "for (i,j) in zip(dfjul['Quantity Ordered'],dfjul['Price Each']):\n",
    "    monthly_sales[6] += float(i) * float(j)\n",
    "for (i,j) in zip(dfaug['Quantity Ordered'],dfaug['Price Each']):\n",
    "    monthly_sales[7] += float(i) * float(j)\n",
    "for (i,j) in zip(dfsep['Quantity Ordered'],dfsep['Price Each']):\n",
    "    monthly_sales[8] += float(i) * float(j)\n",
    "for (i,j) in zip(dfoct['Quantity Ordered'],dfoct['Price Each']):\n",
    "    monthly_sales[9] += float(i) * float(j)\n",
    "for (i,j) in zip(dfnov['Quantity Ordered'],dfnov['Price Each']):\n",
    "    monthly_sales[10] += float(i) * float(j)\n",
    "for (i,j) in zip(dfdec['Quantity Ordered'],dfdec['Price Each']):\n",
    "    monthly_sales[11] += float(i) * float(j)"
   ]
  },
  {
   "cell_type": "code",
   "execution_count": 10,
   "metadata": {},
   "outputs": [
    {
     "data": {
      "image/png": "[encoded data removed]",
      "text/plain": [
       "<Figure size 432x288 with 1 Axes>"
      ]
     },
     "metadata": {},
     "output_type": "display_data"
    }
   ],
   "source": [
    "objects = ('Jan', 'Feb', 'Mar', 'Apr', 'May', 'Jun', 'Jul', 'Aug', 'Sep', 'Oct', 'Nov', 'Dec')\n",
    "y_pos = np.arange(len(objects))\n",
    "\n",
    "plt.barh(y_pos, monthly_sales, align='center', alpha=1)\n",
    "plt.yticks(y_pos, objects)\n",
    "plt.xlabel('Monthly Revenue')\n",
    "plt.title('Monthly Sales')\n",
    "\n",
    "plt.show()"
   ]
  },
  {
   "cell_type": "raw",
   "metadata": {},
   "source": [
    "December is best month for sales"
   ]
  },
  {
   "cell_type": "code",
   "execution_count": 11,
   "metadata": {},
   "outputs": [
    {
     "data": {
      "text/plain": [
       "4619297.120001532"
      ]
     },
     "execution_count": 11,
     "metadata": {},
     "output_type": "execute_result"
    }
   ],
   "source": [
    "#Revenue earned in December\n",
    "monthly_sales[11]"
   ]
  },
  {
   "cell_type": "markdown",
   "metadata": {},
   "source": [
    "# 2) Which city had the highest number of sales ?"
   ]
  },
  {
   "cell_type": "code",
   "execution_count": 12,
   "metadata": {},
   "outputs": [
    {
     "data": {
      "text/html": [
       "<div>\n",
       "<style scoped>\n",
       "    .dataframe tbody tr th:only-of-type {\n",
       "        vertical-align: middle;\n",
       "    }\n",
       "\n",
       "    .dataframe tbody tr th {\n",
       "        vertical-align: top;\n",
       "    }\n",
       "\n",
       "    .dataframe thead th {\n",
       "        text-align: right;\n",
       "    }\n",
       "</style>\n",
       "<table border=\"1\" class=\"dataframe\">\n",
       "  <thead>\n",
       "    <tr style=\"text-align: right;\">\n",
       "      <th></th>\n",
       "      <th>Order ID</th>\n",
       "      <th>Product</th>\n",
       "      <th>Quantity Ordered</th>\n",
       "      <th>Price Each</th>\n",
       "      <th>Order Date</th>\n",
       "      <th>Purchase Address</th>\n",
       "      <th>City</th>\n",
       "    </tr>\n",
       "  </thead>\n",
       "  <tbody>\n",
       "    <tr>\n",
       "      <th>0</th>\n",
       "      <td>176558</td>\n",
       "      <td>USB-C Charging Cable</td>\n",
       "      <td>2</td>\n",
       "      <td>11.95</td>\n",
       "      <td>04/19/19 08:46</td>\n",
       "      <td>917 1st St, Dallas, TX 75001</td>\n",
       "      <td>Dallas</td>\n",
       "    </tr>\n",
       "    <tr>\n",
       "      <th>2</th>\n",
       "      <td>176559</td>\n",
       "      <td>Bose SoundSport Headphones</td>\n",
       "      <td>1</td>\n",
       "      <td>99.99</td>\n",
       "      <td>04/07/19 22:30</td>\n",
       "      <td>682 Chestnut St, Boston, MA 02215</td>\n",
       "      <td>Boston</td>\n",
       "    </tr>\n",
       "    <tr>\n",
       "      <th>3</th>\n",
       "      <td>176560</td>\n",
       "      <td>Google Phone</td>\n",
       "      <td>1</td>\n",
       "      <td>600</td>\n",
       "      <td>04/12/19 14:38</td>\n",
       "      <td>669 Spruce St, Los Angeles, CA 90001</td>\n",
       "      <td>Los Angeles</td>\n",
       "    </tr>\n",
       "    <tr>\n",
       "      <th>4</th>\n",
       "      <td>176560</td>\n",
       "      <td>Wired Headphones</td>\n",
       "      <td>1</td>\n",
       "      <td>11.99</td>\n",
       "      <td>04/12/19 14:38</td>\n",
       "      <td>669 Spruce St, Los Angeles, CA 90001</td>\n",
       "      <td>Los Angeles</td>\n",
       "    </tr>\n",
       "    <tr>\n",
       "      <th>5</th>\n",
       "      <td>176561</td>\n",
       "      <td>Wired Headphones</td>\n",
       "      <td>1</td>\n",
       "      <td>11.99</td>\n",
       "      <td>04/30/19 09:27</td>\n",
       "      <td>333 8th St, Los Angeles, CA 90001</td>\n",
       "      <td>Los Angeles</td>\n",
       "    </tr>\n",
       "  </tbody>\n",
       "</table>\n",
       "</div>"
      ],
      "text/plain": [
       "  Order ID                     Product Quantity Ordered Price Each  \\\n",
       "0   176558        USB-C Charging Cable                2      11.95   \n",
       "2   176559  Bose SoundSport Headphones                1      99.99   \n",
       "3   176560                Google Phone                1        600   \n",
       "4   176560            Wired Headphones                1      11.99   \n",
       "5   176561            Wired Headphones                1      11.99   \n",
       "\n",
       "       Order Date                      Purchase Address          City  \n",
       "0  04/19/19 08:46          917 1st St, Dallas, TX 75001        Dallas  \n",
       "2  04/07/19 22:30     682 Chestnut St, Boston, MA 02215        Boston  \n",
       "3  04/12/19 14:38  669 Spruce St, Los Angeles, CA 90001   Los Angeles  \n",
       "4  04/12/19 14:38  669 Spruce St, Los Angeles, CA 90001   Los Angeles  \n",
       "5  04/30/19 09:27     333 8th St, Los Angeles, CA 90001   Los Angeles  "
      ]
     },
     "execution_count": 12,
     "metadata": {},
     "output_type": "execute_result"
    }
   ],
   "source": [
    "dftemp = df\n",
    "list_city = []\n",
    "for i in dftemp['Purchase Address']:\n",
    "    list_city.append(i.split(\",\")[1])\n",
    "dftemp['City'] = list_city\n",
    "dftemp.head()"
   ]
  },
  {
   "cell_type": "code",
   "execution_count": 13,
   "metadata": {},
   "outputs": [
    {
     "data": {
      "text/plain": [
       "{' Dallas': 5514034.99,\n",
       " ' Boston': 7293808.95,\n",
       " ' Los Angeles': 10861258.97,\n",
       " ' San Francisco': 16458272.95,\n",
       " ' Seattle': 5473762.99,\n",
       " ' Atlanta': 5569110.95,\n",
       " ' New York City': 9291806.0,\n",
       " ' Portland': 4622586.95,\n",
       " ' Austin': 3624594.95}"
      ]
     },
     "execution_count": 13,
     "metadata": {},
     "output_type": "execute_result"
    }
   ],
   "source": [
    "dict_city = {}\n",
    "for (i,j,k) in zip(dftemp['Quantity Ordered'],dftemp['Price Each'],dftemp['City']):\n",
    "    if k not in dict_city:            \n",
    "        dict_city.update({k:(float(i)*float(j))})        \n",
    "    else:            \n",
    "        temp=dict_city.get(k)            \n",
    "        dict_city.update({k:(float(i)*float(j))+int(temp)})    \n",
    "dict_city"
   ]
  },
  {
   "cell_type": "code",
   "execution_count": 14,
   "metadata": {},
   "outputs": [
    {
     "data": {
      "image/png": "[encoded data removed]",
      "text/plain": [
       "<Figure size 432x288 with 1 Axes>"
      ]
     },
     "metadata": {},
     "output_type": "display_data"
    }
   ],
   "source": [
    "labels = []\n",
    "for i in dict_city:\n",
    "    labels.append(i)\n",
    "city_revenue = list(dict_city.values())\n",
    "plt.pie(city_revenue, labels=labels, autopct='%1.1f%%')\n",
    "plt.show()"
   ]
  },
  {
   "cell_type": "raw",
   "metadata": {},
   "source": [
    "San Francisco had highest number of sales"
   ]
  },
  {
   "cell_type": "markdown",
   "metadata": {},
   "source": [
    "# 3) Recommend the most appropriate time to display advertising to maximize the likelihood of customer buying the product's?"
   ]
  },
  {
   "cell_type": "code",
   "execution_count": 15,
   "metadata": {},
   "outputs": [
    {
     "data": {
      "text/html": [
       "<div>\n",
       "<style scoped>\n",
       "    .dataframe tbody tr th:only-of-type {\n",
       "        vertical-align: middle;\n",
       "    }\n",
       "\n",
       "    .dataframe tbody tr th {\n",
       "        vertical-align: top;\n",
       "    }\n",
       "\n",
       "    .dataframe thead th {\n",
       "        text-align: right;\n",
       "    }\n",
       "</style>\n",
       "<table border=\"1\" class=\"dataframe\">\n",
       "  <thead>\n",
       "    <tr style=\"text-align: right;\">\n",
       "      <th></th>\n",
       "      <th>Order ID</th>\n",
       "      <th>Product</th>\n",
       "      <th>Quantity Ordered</th>\n",
       "      <th>Price Each</th>\n",
       "      <th>Order Date</th>\n",
       "      <th>Purchase Address</th>\n",
       "      <th>City</th>\n",
       "      <th>Time</th>\n",
       "    </tr>\n",
       "  </thead>\n",
       "  <tbody>\n",
       "    <tr>\n",
       "      <th>0</th>\n",
       "      <td>176558</td>\n",
       "      <td>USB-C Charging Cable</td>\n",
       "      <td>2</td>\n",
       "      <td>11.95</td>\n",
       "      <td>04/19/19 08:46</td>\n",
       "      <td>917 1st St, Dallas, TX 75001</td>\n",
       "      <td>Dallas</td>\n",
       "      <td>08:46</td>\n",
       "    </tr>\n",
       "    <tr>\n",
       "      <th>2</th>\n",
       "      <td>176559</td>\n",
       "      <td>Bose SoundSport Headphones</td>\n",
       "      <td>1</td>\n",
       "      <td>99.99</td>\n",
       "      <td>04/07/19 22:30</td>\n",
       "      <td>682 Chestnut St, Boston, MA 02215</td>\n",
       "      <td>Boston</td>\n",
       "      <td>22:30</td>\n",
       "    </tr>\n",
       "    <tr>\n",
       "      <th>3</th>\n",
       "      <td>176560</td>\n",
       "      <td>Google Phone</td>\n",
       "      <td>1</td>\n",
       "      <td>600</td>\n",
       "      <td>04/12/19 14:38</td>\n",
       "      <td>669 Spruce St, Los Angeles, CA 90001</td>\n",
       "      <td>Los Angeles</td>\n",
       "      <td>14:38</td>\n",
       "    </tr>\n",
       "    <tr>\n",
       "      <th>4</th>\n",
       "      <td>176560</td>\n",
       "      <td>Wired Headphones</td>\n",
       "      <td>1</td>\n",
       "      <td>11.99</td>\n",
       "      <td>04/12/19 14:38</td>\n",
       "      <td>669 Spruce St, Los Angeles, CA 90001</td>\n",
       "      <td>Los Angeles</td>\n",
       "      <td>14:38</td>\n",
       "    </tr>\n",
       "    <tr>\n",
       "      <th>5</th>\n",
       "      <td>176561</td>\n",
       "      <td>Wired Headphones</td>\n",
       "      <td>1</td>\n",
       "      <td>11.99</td>\n",
       "      <td>04/30/19 09:27</td>\n",
       "      <td>333 8th St, Los Angeles, CA 90001</td>\n",
       "      <td>Los Angeles</td>\n",
       "      <td>09:27</td>\n",
       "    </tr>\n",
       "  </tbody>\n",
       "</table>\n",
       "</div>"
      ],
      "text/plain": [
       "  Order ID                     Product Quantity Ordered Price Each  \\\n",
       "0   176558        USB-C Charging Cable                2      11.95   \n",
       "2   176559  Bose SoundSport Headphones                1      99.99   \n",
       "3   176560                Google Phone                1        600   \n",
       "4   176560            Wired Headphones                1      11.99   \n",
       "5   176561            Wired Headphones                1      11.99   \n",
       "\n",
       "       Order Date                      Purchase Address          City   Time  \n",
       "0  04/19/19 08:46          917 1st St, Dallas, TX 75001        Dallas  08:46  \n",
       "2  04/07/19 22:30     682 Chestnut St, Boston, MA 02215        Boston  22:30  \n",
       "3  04/12/19 14:38  669 Spruce St, Los Angeles, CA 90001   Los Angeles  14:38  \n",
       "4  04/12/19 14:38  669 Spruce St, Los Angeles, CA 90001   Los Angeles  14:38  \n",
       "5  04/30/19 09:27     333 8th St, Los Angeles, CA 90001   Los Angeles  09:27  "
      ]
     },
     "execution_count": 15,
     "metadata": {},
     "output_type": "execute_result"
    }
   ],
   "source": [
    "dftime = df\n",
    "list_time = []\n",
    "for i in dftime['Order Date']:\n",
    "    list_time.append(i.split(\" \")[1])\n",
    "dftime['Time'] = list_time\n",
    "dftime.head()"
   ]
  },
  {
   "cell_type": "code",
   "execution_count": 16,
   "metadata": {},
   "outputs": [],
   "source": [
    "dict_time = {}\n",
    "for (i,j) in zip(dftemp['Quantity Ordered'],dftemp['Time']):\n",
    "    if j not in dict_time:            \n",
    "        dict_time.update({j:i})        \n",
    "    else:            \n",
    "        temp=dict_time.get(j)            \n",
    "        dict_time.update({j:int(i)+int(temp)})    \n",
    "dict_time_new = dict( sorted(dict_time.items(), key=operator.itemgetter(1),reverse=True))"
   ]
  },
  {
   "cell_type": "code",
   "execution_count": 17,
   "metadata": {},
   "outputs": [
    {
     "data": {
      "text/plain": [
       "{'11:58': 564,\n",
       " '19:20': 562,\n",
       " '19:36': 550,\n",
       " '19:17': 544,\n",
       " '13:25': 542,\n",
       " '20:35': 540,\n",
       " '12:21': 540,\n",
       " '20:13': 538,\n",
       " '19:46': 538,\n",
       " '19:01': 538}"
      ]
     },
     "execution_count": 17,
     "metadata": {},
     "output_type": "execute_result"
    }
   ],
   "source": [
    "#Top 10 timings\n",
    "dict_time_top = {}\n",
    "list_time = list(dict_time_new)\n",
    "for i in range(10):\n",
    "    dict_time_top.update({list_time[i]:dict_time_new.get(list_time[i])})\n",
    "dict_time_top"
   ]
  },
  {
   "cell_type": "raw",
   "metadata": {},
   "source": [
    "11:58 to 13:25 & 19:01 to 20:35 is the appropriate time to diplay advertising to maximize the likelihood of customer buying the products"
   ]
  },
  {
   "cell_type": "markdown",
   "metadata": {},
   "source": [
    "# 4) What products are most often sold together ?"
   ]
  },
  {
   "cell_type": "code",
   "execution_count": null,
   "metadata": {},
   "outputs": [],
   "source": []
  },
  {
   "cell_type": "code",
   "execution_count": null,
   "metadata": {},
   "outputs": [],
   "source": []
  },
  {
   "cell_type": "markdown",
   "metadata": {},
   "source": [
    "# 5) What products sold the most ?, Why do you think it sold the most ?"
   ]
  },
  {
   "cell_type": "code",
   "execution_count": null,
   "metadata": {},
   "outputs": [],
   "source": []
  },
  {
   "cell_type": "code",
   "execution_count": null,
   "metadata": {},
   "outputs": [],
   "source": []
  }
 ],
 "metadata": {
  "kernelspec": {
   "display_name": "Python 3",
   "language": "python",
   "name": "python3"
  },
  "language_info": {
   "codemirror_mode": {
    "name": "ipython",
    "version": 3
   },
   "file_extension": ".py",
   "mimetype": "text/x-python",
   "name": "python",
   "nbconvert_exporter": "python",
   "pygments_lexer": "ipython3",
   "version": "3.6.5"
  }
 },
 "nbformat": 4,
 "nbformat_minor": 2
}
